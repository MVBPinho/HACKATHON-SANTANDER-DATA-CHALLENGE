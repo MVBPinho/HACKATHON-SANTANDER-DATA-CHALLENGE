{
 "cells": [
  {
   "cell_type": "code",
   "execution_count": 1,
   "metadata": {},
   "outputs": [],
   "source": [
    "import pandas as pd\n",
    "import matplotlib.pyplot as plt\n",
    "from tabulate import tabulate\n",
    "import numpy as np\n",
    "%matplotlib inline\n",
    "\n",
    "pd.set_option('display.max_columns', None)\n",
    "pd.options.display.max_rows = 200"
   ]
  },
  {
   "cell_type": "code",
   "execution_count": 2,
   "metadata": {},
   "outputs": [],
   "source": [
    "#define as features\n",
    "\n",
    "df2019_cols = [\"CO_ENTIDADE\", \"CO_UF\", \"CO_MUNICIPIO\", \"TP_DEPENDENCIA\", \"ID_ALUNO\", \"NU_IDADE\",\"CO_UF_END\", \"TP_ZONA_RESIDENCIAL\",\"TP_ETAPA_ENSINO\",\"NU_DURACAO_TURMA\", \"NU_DIAS_ATIVIDADE\"]"
   ]
  },
  {
   "cell_type": "code",
   "execution_count": 4,
   "metadata": {},
   "outputs": [],
   "source": [
    "df2019 = pd.read_csv(\"MATRICULA_SUDESTE.csv\", sep=\"|\", usecols=df2019_cols)"
   ]
  },
  {
   "cell_type": "code",
   "execution_count": 5,
   "metadata": {},
   "outputs": [
    {
     "data": {
      "text/html": [
       "<div>\n",
       "<style scoped>\n",
       "    .dataframe tbody tr th:only-of-type {\n",
       "        vertical-align: middle;\n",
       "    }\n",
       "\n",
       "    .dataframe tbody tr th {\n",
       "        vertical-align: top;\n",
       "    }\n",
       "\n",
       "    .dataframe thead th {\n",
       "        text-align: right;\n",
       "    }\n",
       "</style>\n",
       "<table border=\"1\" class=\"dataframe\">\n",
       "  <thead>\n",
       "    <tr style=\"text-align: right;\">\n",
       "      <th></th>\n",
       "      <th>ID_ALUNO</th>\n",
       "      <th>NU_IDADE</th>\n",
       "      <th>CO_UF_END</th>\n",
       "      <th>TP_ZONA_RESIDENCIAL</th>\n",
       "      <th>TP_ETAPA_ENSINO</th>\n",
       "      <th>NU_DURACAO_TURMA</th>\n",
       "      <th>NU_DIAS_ATIVIDADE</th>\n",
       "      <th>CO_ENTIDADE</th>\n",
       "      <th>CO_UF</th>\n",
       "      <th>CO_MUNICIPIO</th>\n",
       "      <th>TP_DEPENDENCIA</th>\n",
       "    </tr>\n",
       "  </thead>\n",
       "  <tbody>\n",
       "    <tr>\n",
       "      <td>0</td>\n",
       "      <td>2CD712F0670B8A5F7CD524895C8D6C09</td>\n",
       "      <td>3</td>\n",
       "      <td>32.0</td>\n",
       "      <td>1.0</td>\n",
       "      <td>1.0</td>\n",
       "      <td>255.0</td>\n",
       "      <td>5.0</td>\n",
       "      <td>32061790</td>\n",
       "      <td>32</td>\n",
       "      <td>3200359</td>\n",
       "      <td>3</td>\n",
       "    </tr>\n",
       "    <tr>\n",
       "      <td>1</td>\n",
       "      <td>E85457D979E93F690B19EC09EA69F560</td>\n",
       "      <td>20</td>\n",
       "      <td>NaN</td>\n",
       "      <td>1.0</td>\n",
       "      <td>34.0</td>\n",
       "      <td>360.0</td>\n",
       "      <td>5.0</td>\n",
       "      <td>32080824</td>\n",
       "      <td>32</td>\n",
       "      <td>3201308</td>\n",
       "      <td>1</td>\n",
       "    </tr>\n",
       "    <tr>\n",
       "      <td>2</td>\n",
       "      <td>D8587C10F910D515F2E0C072EC425BC2</td>\n",
       "      <td>10</td>\n",
       "      <td>32.0</td>\n",
       "      <td>1.0</td>\n",
       "      <td>18.0</td>\n",
       "      <td>295.0</td>\n",
       "      <td>5.0</td>\n",
       "      <td>32037678</td>\n",
       "      <td>32</td>\n",
       "      <td>3205101</td>\n",
       "      <td>3</td>\n",
       "    </tr>\n",
       "    <tr>\n",
       "      <td>3</td>\n",
       "      <td>72CD43351E420F2C2FDBE0F357EA6B8D</td>\n",
       "      <td>13</td>\n",
       "      <td>32.0</td>\n",
       "      <td>1.0</td>\n",
       "      <td>18.0</td>\n",
       "      <td>270.0</td>\n",
       "      <td>5.0</td>\n",
       "      <td>32036345</td>\n",
       "      <td>32</td>\n",
       "      <td>3205002</td>\n",
       "      <td>3</td>\n",
       "    </tr>\n",
       "    <tr>\n",
       "      <td>4</td>\n",
       "      <td>AE62FE6930121AC5590FCC2EE9F3AAFF</td>\n",
       "      <td>15</td>\n",
       "      <td>32.0</td>\n",
       "      <td>1.0</td>\n",
       "      <td>41.0</td>\n",
       "      <td>270.0</td>\n",
       "      <td>5.0</td>\n",
       "      <td>32006160</td>\n",
       "      <td>32</td>\n",
       "      <td>3203908</td>\n",
       "      <td>3</td>\n",
       "    </tr>\n",
       "  </tbody>\n",
       "</table>\n",
       "</div>"
      ],
      "text/plain": [
       "                           ID_ALUNO  NU_IDADE  CO_UF_END  TP_ZONA_RESIDENCIAL  \\\n",
       "0  2CD712F0670B8A5F7CD524895C8D6C09         3       32.0                  1.0   \n",
       "1  E85457D979E93F690B19EC09EA69F560        20        NaN                  1.0   \n",
       "2  D8587C10F910D515F2E0C072EC425BC2        10       32.0                  1.0   \n",
       "3  72CD43351E420F2C2FDBE0F357EA6B8D        13       32.0                  1.0   \n",
       "4  AE62FE6930121AC5590FCC2EE9F3AAFF        15       32.0                  1.0   \n",
       "\n",
       "   TP_ETAPA_ENSINO  NU_DURACAO_TURMA  NU_DIAS_ATIVIDADE  CO_ENTIDADE  CO_UF  \\\n",
       "0              1.0             255.0                5.0     32061790     32   \n",
       "1             34.0             360.0                5.0     32080824     32   \n",
       "2             18.0             295.0                5.0     32037678     32   \n",
       "3             18.0             270.0                5.0     32036345     32   \n",
       "4             41.0             270.0                5.0     32006160     32   \n",
       "\n",
       "   CO_MUNICIPIO  TP_DEPENDENCIA  \n",
       "0       3200359               3  \n",
       "1       3201308               1  \n",
       "2       3205101               3  \n",
       "3       3205002               3  \n",
       "4       3203908               3  "
      ]
     },
     "execution_count": 5,
     "metadata": {},
     "output_type": "execute_result"
    }
   ],
   "source": [
    "df2019.head()"
   ]
  },
  {
   "cell_type": "code",
   "execution_count": 6,
   "metadata": {},
   "outputs": [],
   "source": [
    "# aceita apenas alunos da zona urbana\n",
    "\n",
    "df2019 = df2019[df2019[\"TP_ZONA_RESIDENCIAL\"]==1]            "
   ]
  },
  {
   "cell_type": "code",
   "execution_count": 7,
   "metadata": {},
   "outputs": [],
   "source": [
    "# aceita apenas alunos do ensino fundamental\n",
    "\n",
    "df2019 = df2019[(df2019[\"TP_ETAPA_ENSINO\"] == 14) | (df2019[\"TP_ETAPA_ENSINO\"] == 15) | (df2019[\"TP_ETAPA_ENSINO\"] == 16) | (df2019[\"TP_ETAPA_ENSINO\"] == 17) | (df2019[\"TP_ETAPA_ENSINO\"] == 18) |  (df2019[\"TP_ETAPA_ENSINO\"] == 19) | (df2019[\"TP_ETAPA_ENSINO\"] == 20) | (df2019[\"TP_ETAPA_ENSINO\"] ==21) | (df2019[\"TP_ETAPA_ENSINO\"] == 41)]"
   ]
  },
  {
   "cell_type": "code",
   "execution_count": 9,
   "metadata": {},
   "outputs": [
    {
     "data": {
      "text/html": [
       "<div>\n",
       "<style scoped>\n",
       "    .dataframe tbody tr th:only-of-type {\n",
       "        vertical-align: middle;\n",
       "    }\n",
       "\n",
       "    .dataframe tbody tr th {\n",
       "        vertical-align: top;\n",
       "    }\n",
       "\n",
       "    .dataframe thead th {\n",
       "        text-align: right;\n",
       "    }\n",
       "</style>\n",
       "<table border=\"1\" class=\"dataframe\">\n",
       "  <thead>\n",
       "    <tr style=\"text-align: right;\">\n",
       "      <th></th>\n",
       "      <th>ID_ALUNO</th>\n",
       "      <th>NU_IDADE</th>\n",
       "      <th>CO_UF_END</th>\n",
       "      <th>TP_ZONA_RESIDENCIAL</th>\n",
       "      <th>TP_ETAPA_ENSINO</th>\n",
       "      <th>NU_DURACAO_TURMA</th>\n",
       "      <th>NU_DIAS_ATIVIDADE</th>\n",
       "      <th>CO_ENTIDADE</th>\n",
       "      <th>CO_UF</th>\n",
       "      <th>CO_MUNICIPIO</th>\n",
       "      <th>TP_DEPENDENCIA</th>\n",
       "    </tr>\n",
       "  </thead>\n",
       "  <tbody>\n",
       "    <tr>\n",
       "      <td>2</td>\n",
       "      <td>D8587C10F910D515F2E0C072EC425BC2</td>\n",
       "      <td>10</td>\n",
       "      <td>32.0</td>\n",
       "      <td>1.0</td>\n",
       "      <td>18.0</td>\n",
       "      <td>295.0</td>\n",
       "      <td>5.0</td>\n",
       "      <td>32037678</td>\n",
       "      <td>32</td>\n",
       "      <td>3205101</td>\n",
       "      <td>3</td>\n",
       "    </tr>\n",
       "    <tr>\n",
       "      <td>3</td>\n",
       "      <td>72CD43351E420F2C2FDBE0F357EA6B8D</td>\n",
       "      <td>13</td>\n",
       "      <td>32.0</td>\n",
       "      <td>1.0</td>\n",
       "      <td>18.0</td>\n",
       "      <td>270.0</td>\n",
       "      <td>5.0</td>\n",
       "      <td>32036345</td>\n",
       "      <td>32</td>\n",
       "      <td>3205002</td>\n",
       "      <td>3</td>\n",
       "    </tr>\n",
       "    <tr>\n",
       "      <td>4</td>\n",
       "      <td>AE62FE6930121AC5590FCC2EE9F3AAFF</td>\n",
       "      <td>15</td>\n",
       "      <td>32.0</td>\n",
       "      <td>1.0</td>\n",
       "      <td>41.0</td>\n",
       "      <td>270.0</td>\n",
       "      <td>5.0</td>\n",
       "      <td>32006160</td>\n",
       "      <td>32</td>\n",
       "      <td>3203908</td>\n",
       "      <td>3</td>\n",
       "    </tr>\n",
       "    <tr>\n",
       "      <td>9</td>\n",
       "      <td>32300C21D7CEB1E31FC7C70C7D250E03</td>\n",
       "      <td>8</td>\n",
       "      <td>32.0</td>\n",
       "      <td>1.0</td>\n",
       "      <td>15.0</td>\n",
       "      <td>270.0</td>\n",
       "      <td>5.0</td>\n",
       "      <td>32052588</td>\n",
       "      <td>32</td>\n",
       "      <td>3201209</td>\n",
       "      <td>3</td>\n",
       "    </tr>\n",
       "    <tr>\n",
       "      <td>10</td>\n",
       "      <td>DFC5115E5861829BADE0C5EC7FA835F2</td>\n",
       "      <td>8</td>\n",
       "      <td>32.0</td>\n",
       "      <td>1.0</td>\n",
       "      <td>15.0</td>\n",
       "      <td>270.0</td>\n",
       "      <td>5.0</td>\n",
       "      <td>32099800</td>\n",
       "      <td>32</td>\n",
       "      <td>3205200</td>\n",
       "      <td>3</td>\n",
       "    </tr>\n",
       "    <tr>\n",
       "      <td>...</td>\n",
       "      <td>...</td>\n",
       "      <td>...</td>\n",
       "      <td>...</td>\n",
       "      <td>...</td>\n",
       "      <td>...</td>\n",
       "      <td>...</td>\n",
       "      <td>...</td>\n",
       "      <td>...</td>\n",
       "      <td>...</td>\n",
       "      <td>...</td>\n",
       "      <td>...</td>\n",
       "    </tr>\n",
       "    <tr>\n",
       "      <td>19785834</td>\n",
       "      <td>23E3BFC15EE00CD6A7C96C1A285BA59D</td>\n",
       "      <td>15</td>\n",
       "      <td>NaN</td>\n",
       "      <td>1.0</td>\n",
       "      <td>21.0</td>\n",
       "      <td>270.0</td>\n",
       "      <td>5.0</td>\n",
       "      <td>31212644</td>\n",
       "      <td>31</td>\n",
       "      <td>3118601</td>\n",
       "      <td>2</td>\n",
       "    </tr>\n",
       "    <tr>\n",
       "      <td>19785838</td>\n",
       "      <td>0065CC45A5CBF5CFC80FC86F0C54B2F7</td>\n",
       "      <td>6</td>\n",
       "      <td>31.0</td>\n",
       "      <td>1.0</td>\n",
       "      <td>14.0</td>\n",
       "      <td>255.0</td>\n",
       "      <td>5.0</td>\n",
       "      <td>31012394</td>\n",
       "      <td>31</td>\n",
       "      <td>3162922</td>\n",
       "      <td>3</td>\n",
       "    </tr>\n",
       "    <tr>\n",
       "      <td>19785841</td>\n",
       "      <td>AC2F364ECA5CDCEFE59DEA1A8C3DEF73</td>\n",
       "      <td>8</td>\n",
       "      <td>31.0</td>\n",
       "      <td>1.0</td>\n",
       "      <td>16.0</td>\n",
       "      <td>260.0</td>\n",
       "      <td>5.0</td>\n",
       "      <td>31129569</td>\n",
       "      <td>31</td>\n",
       "      <td>3163805</td>\n",
       "      <td>3</td>\n",
       "    </tr>\n",
       "    <tr>\n",
       "      <td>19785842</td>\n",
       "      <td>3E6CEAC8E3A2587C5D09B93D3248B609</td>\n",
       "      <td>13</td>\n",
       "      <td>31.0</td>\n",
       "      <td>1.0</td>\n",
       "      <td>21.0</td>\n",
       "      <td>270.0</td>\n",
       "      <td>5.0</td>\n",
       "      <td>31011223</td>\n",
       "      <td>31</td>\n",
       "      <td>3106705</td>\n",
       "      <td>3</td>\n",
       "    </tr>\n",
       "    <tr>\n",
       "      <td>19785844</td>\n",
       "      <td>97A146FD4B69C606792CBA6C20893466</td>\n",
       "      <td>10</td>\n",
       "      <td>NaN</td>\n",
       "      <td>1.0</td>\n",
       "      <td>17.0</td>\n",
       "      <td>260.0</td>\n",
       "      <td>5.0</td>\n",
       "      <td>31103152</td>\n",
       "      <td>31</td>\n",
       "      <td>3131703</td>\n",
       "      <td>2</td>\n",
       "    </tr>\n",
       "  </tbody>\n",
       "</table>\n",
       "<p>9484407 rows × 11 columns</p>\n",
       "</div>"
      ],
      "text/plain": [
       "                                  ID_ALUNO  NU_IDADE  CO_UF_END  \\\n",
       "2         D8587C10F910D515F2E0C072EC425BC2        10       32.0   \n",
       "3         72CD43351E420F2C2FDBE0F357EA6B8D        13       32.0   \n",
       "4         AE62FE6930121AC5590FCC2EE9F3AAFF        15       32.0   \n",
       "9         32300C21D7CEB1E31FC7C70C7D250E03         8       32.0   \n",
       "10        DFC5115E5861829BADE0C5EC7FA835F2         8       32.0   \n",
       "...                                    ...       ...        ...   \n",
       "19785834  23E3BFC15EE00CD6A7C96C1A285BA59D        15        NaN   \n",
       "19785838  0065CC45A5CBF5CFC80FC86F0C54B2F7         6       31.0   \n",
       "19785841  AC2F364ECA5CDCEFE59DEA1A8C3DEF73         8       31.0   \n",
       "19785842  3E6CEAC8E3A2587C5D09B93D3248B609        13       31.0   \n",
       "19785844  97A146FD4B69C606792CBA6C20893466        10        NaN   \n",
       "\n",
       "          TP_ZONA_RESIDENCIAL  TP_ETAPA_ENSINO  NU_DURACAO_TURMA  \\\n",
       "2                         1.0             18.0             295.0   \n",
       "3                         1.0             18.0             270.0   \n",
       "4                         1.0             41.0             270.0   \n",
       "9                         1.0             15.0             270.0   \n",
       "10                        1.0             15.0             270.0   \n",
       "...                       ...              ...               ...   \n",
       "19785834                  1.0             21.0             270.0   \n",
       "19785838                  1.0             14.0             255.0   \n",
       "19785841                  1.0             16.0             260.0   \n",
       "19785842                  1.0             21.0             270.0   \n",
       "19785844                  1.0             17.0             260.0   \n",
       "\n",
       "          NU_DIAS_ATIVIDADE  CO_ENTIDADE  CO_UF  CO_MUNICIPIO  TP_DEPENDENCIA  \n",
       "2                       5.0     32037678     32       3205101               3  \n",
       "3                       5.0     32036345     32       3205002               3  \n",
       "4                       5.0     32006160     32       3203908               3  \n",
       "9                       5.0     32052588     32       3201209               3  \n",
       "10                      5.0     32099800     32       3205200               3  \n",
       "...                     ...          ...    ...           ...             ...  \n",
       "19785834                5.0     31212644     31       3118601               2  \n",
       "19785838                5.0     31012394     31       3162922               3  \n",
       "19785841                5.0     31129569     31       3163805               3  \n",
       "19785842                5.0     31011223     31       3106705               3  \n",
       "19785844                5.0     31103152     31       3131703               2  \n",
       "\n",
       "[9484407 rows x 11 columns]"
      ]
     },
     "execution_count": 9,
     "metadata": {},
     "output_type": "execute_result"
    }
   ],
   "source": [
    "df2019"
   ]
  },
  {
   "cell_type": "code",
   "execution_count": 10,
   "metadata": {},
   "outputs": [],
   "source": [
    "# aceita apenas escolas privadas\n",
    "\n",
    "df2019 = df2019[df2019[\"TP_DEPENDENCIA\"] == 4]"
   ]
  },
  {
   "cell_type": "code",
   "execution_count": 11,
   "metadata": {},
   "outputs": [
    {
     "data": {
      "text/plain": [
       "2070039"
      ]
     },
     "execution_count": 11,
     "metadata": {},
     "output_type": "execute_result"
    }
   ],
   "source": [
    "# qntd de alunos matriculados no ensino fundamental de escolas privadas do Sudeste\n",
    "\n",
    "df2019[\"ID_ALUNO\"].count()"
   ]
  },
  {
   "cell_type": "code",
   "execution_count": 12,
   "metadata": {},
   "outputs": [],
   "source": [
    "# retira alunos de faixa etária superior ao target\n",
    "\n",
    "df2019 = df2019[df2019[\"NU_IDADE\"] < 18]"
   ]
  },
  {
   "cell_type": "code",
   "execution_count": 13,
   "metadata": {},
   "outputs": [
    {
     "data": {
      "text/html": [
       "<div>\n",
       "<style scoped>\n",
       "    .dataframe tbody tr th:only-of-type {\n",
       "        vertical-align: middle;\n",
       "    }\n",
       "\n",
       "    .dataframe tbody tr th {\n",
       "        vertical-align: top;\n",
       "    }\n",
       "\n",
       "    .dataframe thead th {\n",
       "        text-align: right;\n",
       "    }\n",
       "</style>\n",
       "<table border=\"1\" class=\"dataframe\">\n",
       "  <thead>\n",
       "    <tr style=\"text-align: right;\">\n",
       "      <th></th>\n",
       "      <th>ID_ALUNO</th>\n",
       "      <th>NU_IDADE</th>\n",
       "      <th>CO_UF_END</th>\n",
       "      <th>TP_ZONA_RESIDENCIAL</th>\n",
       "      <th>TP_ETAPA_ENSINO</th>\n",
       "      <th>NU_DURACAO_TURMA</th>\n",
       "      <th>NU_DIAS_ATIVIDADE</th>\n",
       "      <th>CO_ENTIDADE</th>\n",
       "      <th>CO_UF</th>\n",
       "      <th>CO_MUNICIPIO</th>\n",
       "      <th>TP_DEPENDENCIA</th>\n",
       "    </tr>\n",
       "  </thead>\n",
       "  <tbody>\n",
       "    <tr>\n",
       "      <td>12</td>\n",
       "      <td>954E200DB0BABEA7B6D0731B303238AE</td>\n",
       "      <td>10</td>\n",
       "      <td>32.0</td>\n",
       "      <td>1.0</td>\n",
       "      <td>17.0</td>\n",
       "      <td>270.0</td>\n",
       "      <td>5.0</td>\n",
       "      <td>32019688</td>\n",
       "      <td>32</td>\n",
       "      <td>3200607</td>\n",
       "      <td>4</td>\n",
       "    </tr>\n",
       "    <tr>\n",
       "      <td>15</td>\n",
       "      <td>BA8B0ABE808A3256E060E257D7DF2397</td>\n",
       "      <td>15</td>\n",
       "      <td>32.0</td>\n",
       "      <td>1.0</td>\n",
       "      <td>41.0</td>\n",
       "      <td>270.0</td>\n",
       "      <td>5.0</td>\n",
       "      <td>32034288</td>\n",
       "      <td>32</td>\n",
       "      <td>3201308</td>\n",
       "      <td>4</td>\n",
       "    </tr>\n",
       "    <tr>\n",
       "      <td>17</td>\n",
       "      <td>3E3BB3A80BD977DFBE7696EB222F93E7</td>\n",
       "      <td>12</td>\n",
       "      <td>32.0</td>\n",
       "      <td>1.0</td>\n",
       "      <td>20.0</td>\n",
       "      <td>270.0</td>\n",
       "      <td>5.0</td>\n",
       "      <td>32064420</td>\n",
       "      <td>32</td>\n",
       "      <td>3200201</td>\n",
       "      <td>4</td>\n",
       "    </tr>\n",
       "    <tr>\n",
       "      <td>21</td>\n",
       "      <td>5DAB617A4A170370349A1DB3760B7EEF</td>\n",
       "      <td>8</td>\n",
       "      <td>32.0</td>\n",
       "      <td>1.0</td>\n",
       "      <td>15.0</td>\n",
       "      <td>270.0</td>\n",
       "      <td>5.0</td>\n",
       "      <td>32043759</td>\n",
       "      <td>32</td>\n",
       "      <td>3202405</td>\n",
       "      <td>4</td>\n",
       "    </tr>\n",
       "    <tr>\n",
       "      <td>22</td>\n",
       "      <td>A91D9B6D829DC92004AA4E2DCF93EB61</td>\n",
       "      <td>10</td>\n",
       "      <td>32.0</td>\n",
       "      <td>1.0</td>\n",
       "      <td>17.0</td>\n",
       "      <td>275.0</td>\n",
       "      <td>5.0</td>\n",
       "      <td>32068700</td>\n",
       "      <td>32</td>\n",
       "      <td>3205309</td>\n",
       "      <td>4</td>\n",
       "    </tr>\n",
       "    <tr>\n",
       "      <td>...</td>\n",
       "      <td>...</td>\n",
       "      <td>...</td>\n",
       "      <td>...</td>\n",
       "      <td>...</td>\n",
       "      <td>...</td>\n",
       "      <td>...</td>\n",
       "      <td>...</td>\n",
       "      <td>...</td>\n",
       "      <td>...</td>\n",
       "      <td>...</td>\n",
       "      <td>...</td>\n",
       "    </tr>\n",
       "    <tr>\n",
       "      <td>19785741</td>\n",
       "      <td>E73C5043C1146541FAE70DB0A5C72A75</td>\n",
       "      <td>13</td>\n",
       "      <td>31.0</td>\n",
       "      <td>1.0</td>\n",
       "      <td>20.0</td>\n",
       "      <td>270.0</td>\n",
       "      <td>6.0</td>\n",
       "      <td>31346314</td>\n",
       "      <td>31</td>\n",
       "      <td>3138203</td>\n",
       "      <td>4</td>\n",
       "    </tr>\n",
       "    <tr>\n",
       "      <td>19785763</td>\n",
       "      <td>8A7BE022D4D8685E72EABA3246F44D5F</td>\n",
       "      <td>9</td>\n",
       "      <td>31.0</td>\n",
       "      <td>1.0</td>\n",
       "      <td>17.0</td>\n",
       "      <td>270.0</td>\n",
       "      <td>5.0</td>\n",
       "      <td>31313513</td>\n",
       "      <td>31</td>\n",
       "      <td>3154606</td>\n",
       "      <td>4</td>\n",
       "    </tr>\n",
       "    <tr>\n",
       "      <td>19785803</td>\n",
       "      <td>4AA175D9D916DF477200C53C2DD645F2</td>\n",
       "      <td>15</td>\n",
       "      <td>31.0</td>\n",
       "      <td>1.0</td>\n",
       "      <td>21.0</td>\n",
       "      <td>270.0</td>\n",
       "      <td>5.0</td>\n",
       "      <td>31004499</td>\n",
       "      <td>31</td>\n",
       "      <td>3106200</td>\n",
       "      <td>4</td>\n",
       "    </tr>\n",
       "    <tr>\n",
       "      <td>19785814</td>\n",
       "      <td>85A5AB7889C885A51FF51522DA4DA4DE</td>\n",
       "      <td>10</td>\n",
       "      <td>31.0</td>\n",
       "      <td>1.0</td>\n",
       "      <td>18.0</td>\n",
       "      <td>270.0</td>\n",
       "      <td>5.0</td>\n",
       "      <td>31333670</td>\n",
       "      <td>31</td>\n",
       "      <td>3106200</td>\n",
       "      <td>4</td>\n",
       "    </tr>\n",
       "    <tr>\n",
       "      <td>19785818</td>\n",
       "      <td>6BB01797C8BFF700449DDB68D70D5A76</td>\n",
       "      <td>9</td>\n",
       "      <td>31.0</td>\n",
       "      <td>1.0</td>\n",
       "      <td>16.0</td>\n",
       "      <td>270.0</td>\n",
       "      <td>5.0</td>\n",
       "      <td>31041190</td>\n",
       "      <td>31</td>\n",
       "      <td>3122306</td>\n",
       "      <td>4</td>\n",
       "    </tr>\n",
       "  </tbody>\n",
       "</table>\n",
       "<p>2051197 rows × 11 columns</p>\n",
       "</div>"
      ],
      "text/plain": [
       "                                  ID_ALUNO  NU_IDADE  CO_UF_END  \\\n",
       "12        954E200DB0BABEA7B6D0731B303238AE        10       32.0   \n",
       "15        BA8B0ABE808A3256E060E257D7DF2397        15       32.0   \n",
       "17        3E3BB3A80BD977DFBE7696EB222F93E7        12       32.0   \n",
       "21        5DAB617A4A170370349A1DB3760B7EEF         8       32.0   \n",
       "22        A91D9B6D829DC92004AA4E2DCF93EB61        10       32.0   \n",
       "...                                    ...       ...        ...   \n",
       "19785741  E73C5043C1146541FAE70DB0A5C72A75        13       31.0   \n",
       "19785763  8A7BE022D4D8685E72EABA3246F44D5F         9       31.0   \n",
       "19785803  4AA175D9D916DF477200C53C2DD645F2        15       31.0   \n",
       "19785814  85A5AB7889C885A51FF51522DA4DA4DE        10       31.0   \n",
       "19785818  6BB01797C8BFF700449DDB68D70D5A76         9       31.0   \n",
       "\n",
       "          TP_ZONA_RESIDENCIAL  TP_ETAPA_ENSINO  NU_DURACAO_TURMA  \\\n",
       "12                        1.0             17.0             270.0   \n",
       "15                        1.0             41.0             270.0   \n",
       "17                        1.0             20.0             270.0   \n",
       "21                        1.0             15.0             270.0   \n",
       "22                        1.0             17.0             275.0   \n",
       "...                       ...              ...               ...   \n",
       "19785741                  1.0             20.0             270.0   \n",
       "19785763                  1.0             17.0             270.0   \n",
       "19785803                  1.0             21.0             270.0   \n",
       "19785814                  1.0             18.0             270.0   \n",
       "19785818                  1.0             16.0             270.0   \n",
       "\n",
       "          NU_DIAS_ATIVIDADE  CO_ENTIDADE  CO_UF  CO_MUNICIPIO  TP_DEPENDENCIA  \n",
       "12                      5.0     32019688     32       3200607               4  \n",
       "15                      5.0     32034288     32       3201308               4  \n",
       "17                      5.0     32064420     32       3200201               4  \n",
       "21                      5.0     32043759     32       3202405               4  \n",
       "22                      5.0     32068700     32       3205309               4  \n",
       "...                     ...          ...    ...           ...             ...  \n",
       "19785741                6.0     31346314     31       3138203               4  \n",
       "19785763                5.0     31313513     31       3154606               4  \n",
       "19785803                5.0     31004499     31       3106200               4  \n",
       "19785814                5.0     31333670     31       3106200               4  \n",
       "19785818                5.0     31041190     31       3122306               4  \n",
       "\n",
       "[2051197 rows x 11 columns]"
      ]
     },
     "execution_count": 13,
     "metadata": {},
     "output_type": "execute_result"
    }
   ],
   "source": [
    "df2019"
   ]
  },
  {
   "cell_type": "code",
   "execution_count": 14,
   "metadata": {},
   "outputs": [],
   "source": [
    "def ajusta_serie(v):\n",
    "    if v == 14:\n",
    "        return 1\n",
    "    if v == 15:\n",
    "        return 2\n",
    "    if v == 16:\n",
    "        return 3\n",
    "    if v == 17:\n",
    "        return 4\n",
    "    if v == 18:\n",
    "        return 5\n",
    "    if v == 19:\n",
    "        return 6\n",
    "    if v == 20:\n",
    "        return 7\n",
    "    if v == 21:\n",
    "        return 8\n",
    "    if v == 41:\n",
    "        return 9"
   ]
  },
  {
   "cell_type": "code",
   "execution_count": 15,
   "metadata": {},
   "outputs": [],
   "source": [
    "df2019[\"SERIE\"] = df2019[\"TP_ETAPA_ENSINO\"].apply(ajusta_serie)"
   ]
  },
  {
   "cell_type": "code",
   "execution_count": 16,
   "metadata": {},
   "outputs": [
    {
     "data": {
      "text/html": [
       "<div>\n",
       "<style scoped>\n",
       "    .dataframe tbody tr th:only-of-type {\n",
       "        vertical-align: middle;\n",
       "    }\n",
       "\n",
       "    .dataframe tbody tr th {\n",
       "        vertical-align: top;\n",
       "    }\n",
       "\n",
       "    .dataframe thead th {\n",
       "        text-align: right;\n",
       "    }\n",
       "</style>\n",
       "<table border=\"1\" class=\"dataframe\">\n",
       "  <thead>\n",
       "    <tr style=\"text-align: right;\">\n",
       "      <th></th>\n",
       "      <th>ID_ALUNO</th>\n",
       "      <th>NU_IDADE</th>\n",
       "      <th>CO_UF_END</th>\n",
       "      <th>TP_ZONA_RESIDENCIAL</th>\n",
       "      <th>TP_ETAPA_ENSINO</th>\n",
       "      <th>NU_DURACAO_TURMA</th>\n",
       "      <th>NU_DIAS_ATIVIDADE</th>\n",
       "      <th>CO_ENTIDADE</th>\n",
       "      <th>CO_UF</th>\n",
       "      <th>CO_MUNICIPIO</th>\n",
       "      <th>TP_DEPENDENCIA</th>\n",
       "      <th>SERIE</th>\n",
       "    </tr>\n",
       "  </thead>\n",
       "  <tbody>\n",
       "    <tr>\n",
       "      <td>12</td>\n",
       "      <td>954E200DB0BABEA7B6D0731B303238AE</td>\n",
       "      <td>10</td>\n",
       "      <td>32.0</td>\n",
       "      <td>1.0</td>\n",
       "      <td>17.0</td>\n",
       "      <td>270.0</td>\n",
       "      <td>5.0</td>\n",
       "      <td>32019688</td>\n",
       "      <td>32</td>\n",
       "      <td>3200607</td>\n",
       "      <td>4</td>\n",
       "      <td>4</td>\n",
       "    </tr>\n",
       "    <tr>\n",
       "      <td>15</td>\n",
       "      <td>BA8B0ABE808A3256E060E257D7DF2397</td>\n",
       "      <td>15</td>\n",
       "      <td>32.0</td>\n",
       "      <td>1.0</td>\n",
       "      <td>41.0</td>\n",
       "      <td>270.0</td>\n",
       "      <td>5.0</td>\n",
       "      <td>32034288</td>\n",
       "      <td>32</td>\n",
       "      <td>3201308</td>\n",
       "      <td>4</td>\n",
       "      <td>9</td>\n",
       "    </tr>\n",
       "    <tr>\n",
       "      <td>17</td>\n",
       "      <td>3E3BB3A80BD977DFBE7696EB222F93E7</td>\n",
       "      <td>12</td>\n",
       "      <td>32.0</td>\n",
       "      <td>1.0</td>\n",
       "      <td>20.0</td>\n",
       "      <td>270.0</td>\n",
       "      <td>5.0</td>\n",
       "      <td>32064420</td>\n",
       "      <td>32</td>\n",
       "      <td>3200201</td>\n",
       "      <td>4</td>\n",
       "      <td>7</td>\n",
       "    </tr>\n",
       "    <tr>\n",
       "      <td>21</td>\n",
       "      <td>5DAB617A4A170370349A1DB3760B7EEF</td>\n",
       "      <td>8</td>\n",
       "      <td>32.0</td>\n",
       "      <td>1.0</td>\n",
       "      <td>15.0</td>\n",
       "      <td>270.0</td>\n",
       "      <td>5.0</td>\n",
       "      <td>32043759</td>\n",
       "      <td>32</td>\n",
       "      <td>3202405</td>\n",
       "      <td>4</td>\n",
       "      <td>2</td>\n",
       "    </tr>\n",
       "    <tr>\n",
       "      <td>22</td>\n",
       "      <td>A91D9B6D829DC92004AA4E2DCF93EB61</td>\n",
       "      <td>10</td>\n",
       "      <td>32.0</td>\n",
       "      <td>1.0</td>\n",
       "      <td>17.0</td>\n",
       "      <td>275.0</td>\n",
       "      <td>5.0</td>\n",
       "      <td>32068700</td>\n",
       "      <td>32</td>\n",
       "      <td>3205309</td>\n",
       "      <td>4</td>\n",
       "      <td>4</td>\n",
       "    </tr>\n",
       "  </tbody>\n",
       "</table>\n",
       "</div>"
      ],
      "text/plain": [
       "                            ID_ALUNO  NU_IDADE  CO_UF_END  \\\n",
       "12  954E200DB0BABEA7B6D0731B303238AE        10       32.0   \n",
       "15  BA8B0ABE808A3256E060E257D7DF2397        15       32.0   \n",
       "17  3E3BB3A80BD977DFBE7696EB222F93E7        12       32.0   \n",
       "21  5DAB617A4A170370349A1DB3760B7EEF         8       32.0   \n",
       "22  A91D9B6D829DC92004AA4E2DCF93EB61        10       32.0   \n",
       "\n",
       "    TP_ZONA_RESIDENCIAL  TP_ETAPA_ENSINO  NU_DURACAO_TURMA  NU_DIAS_ATIVIDADE  \\\n",
       "12                  1.0             17.0             270.0                5.0   \n",
       "15                  1.0             41.0             270.0                5.0   \n",
       "17                  1.0             20.0             270.0                5.0   \n",
       "21                  1.0             15.0             270.0                5.0   \n",
       "22                  1.0             17.0             275.0                5.0   \n",
       "\n",
       "    CO_ENTIDADE  CO_UF  CO_MUNICIPIO  TP_DEPENDENCIA  SERIE  \n",
       "12     32019688     32       3200607               4      4  \n",
       "15     32034288     32       3201308               4      9  \n",
       "17     32064420     32       3200201               4      7  \n",
       "21     32043759     32       3202405               4      2  \n",
       "22     32068700     32       3205309               4      4  "
      ]
     },
     "execution_count": 16,
     "metadata": {},
     "output_type": "execute_result"
    }
   ],
   "source": [
    "df2019.head()"
   ]
  },
  {
   "cell_type": "code",
   "execution_count": 17,
   "metadata": {},
   "outputs": [
    {
     "data": {
      "text/plain": [
       "1    255321\n",
       "2    247132\n",
       "3    244218\n",
       "4    236064\n",
       "5    231332\n",
       "6    227510\n",
       "7    216332\n",
       "8    197162\n",
       "9    196126\n",
       "Name: SERIE, dtype: int64"
      ]
     },
     "execution_count": 17,
     "metadata": {},
     "output_type": "execute_result"
    }
   ],
   "source": [
    "# concentração por série\n",
    "\n",
    "df2019[\"SERIE\"].value_counts()"
   ]
  },
  {
   "cell_type": "code",
   "execution_count": 18,
   "metadata": {},
   "outputs": [
    {
     "data": {
      "text/plain": [
       "<matplotlib.axes._subplots.AxesSubplot at 0x1a8aedf11c8>"
      ]
     },
     "execution_count": 18,
     "metadata": {},
     "output_type": "execute_result"
    },
    {
     "data": {
      "image/png": "[encoded data removed]",
      "text/plain": [
       "<Figure size 432x288 with 1 Axes>"
      ]
     },
     "metadata": {
      "needs_background": "light"
     },
     "output_type": "display_data"
    }
   ],
   "source": [
    "df2019[\"SERIE\"].hist(bins=9)"
   ]
  },
  {
   "cell_type": "code",
   "execution_count": 19,
   "metadata": {},
   "outputs": [
    {
     "data": {
      "text/plain": [
       "5.0    2033276\n",
       "6.0      15751\n",
       "4.0       1702\n",
       "1.0        272\n",
       "3.0        166\n",
       "2.0         18\n",
       "7.0         12\n",
       "Name: NU_DIAS_ATIVIDADE, dtype: int64"
      ]
     },
     "execution_count": 19,
     "metadata": {},
     "output_type": "execute_result"
    }
   ],
   "source": [
    "# qntd de dias por semana que são realizadas atividades regulares / qntd de alunos\n",
    "\n",
    "df2019[\"NU_DIAS_ATIVIDADE\"].value_counts()"
   ]
  },
  {
   "cell_type": "code",
   "execution_count": 20,
   "metadata": {},
   "outputs": [
    {
     "data": {
      "text/plain": [
       "<matplotlib.axes._subplots.AxesSubplot at 0x1a893f82888>"
      ]
     },
     "execution_count": 20,
     "metadata": {},
     "output_type": "execute_result"
    },
    {
     "data": {
      "image/png": "[encoded data removed]",
      "text/plain": [
       "<Figure size 432x288 with 1 Axes>"
      ]
     },
     "metadata": {
      "needs_background": "light"
     },
     "output_type": "display_data"
    }
   ],
   "source": [
    "df2019[\"NU_DIAS_ATIVIDADE\"].hist(bins=7)"
   ]
  },
  {
   "cell_type": "code",
   "execution_count": 21,
   "metadata": {},
   "outputs": [
    {
     "data": {
      "text/plain": [
       "270.0    0.317738\n",
       "320.0    0.122321\n",
       "240.0    0.103682\n",
       "300.0    0.078131\n",
       "280.0    0.053426\n",
       "Name: NU_DURACAO_TURMA, dtype: float64"
      ]
     },
     "execution_count": 21,
     "metadata": {},
     "output_type": "execute_result"
    }
   ],
   "source": [
    "# concentração de tempo de permanencia do aluno na escola em minutos\n",
    "\n",
    "df2019[\"NU_DURACAO_TURMA\"].value_counts(normalize=True).head()"
   ]
  },
  {
   "cell_type": "code",
   "execution_count": 22,
   "metadata": {},
   "outputs": [
    {
     "data": {
      "text/plain": [
       "<matplotlib.axes._subplots.AxesSubplot at 0x1a8500ff0c8>"
      ]
     },
     "execution_count": 22,
     "metadata": {},
     "output_type": "execute_result"
    },
    {
     "data": {
      "image/png": "[encoded data removed]",
      "text/plain": [
       "<Figure size 432x288 with 1 Axes>"
      ]
     },
     "metadata": {
      "needs_background": "light"
     },
     "output_type": "display_data"
    }
   ],
   "source": [
    "df2019[\"NU_DURACAO_TURMA\"].hist()"
   ]
  },
  {
   "cell_type": "code",
   "execution_count": 23,
   "metadata": {},
   "outputs": [
    {
     "data": {
      "text/plain": [
       "<matplotlib.axes._subplots.AxesSubplot at 0x1a8a308d1c8>"
      ]
     },
     "execution_count": 23,
     "metadata": {},
     "output_type": "execute_result"
    },
    {
     "data": {
      "image/png": "[encoded data removed]",
      "text/plain": [
       "<Figure size 432x288 with 1 Axes>"
      ]
     },
     "metadata": {
      "needs_background": "light"
     },
     "output_type": "display_data"
    }
   ],
   "source": [
    "df2019[\"NU_IDADE\"].hist(bins=14)"
   ]
  },
  {
   "cell_type": "code",
   "execution_count": 24,
   "metadata": {},
   "outputs": [
    {
     "data": {
      "text/plain": [
       "7     245206\n",
       "8     241333\n",
       "9     235238\n",
       "11    229001\n",
       "10    227502\n",
       "12    223025\n",
       "13    216058\n",
       "14    209866\n",
       "6     107751\n",
       "15     98053\n",
       "16     13764\n",
       "17      4065\n",
       "5        267\n",
       "4         68\n",
       "Name: NU_IDADE, dtype: int64"
      ]
     },
     "execution_count": 24,
     "metadata": {},
     "output_type": "execute_result"
    }
   ],
   "source": [
    "df2019[\"NU_IDADE\"].value_counts()"
   ]
  },
  {
   "cell_type": "code",
   "execution_count": null,
   "metadata": {},
   "outputs": [],
   "source": [
    "df2019.to_csv(\"censo2019\", index=False)"
   ]
  },
  {
   "cell_type": "code",
   "execution_count": 26,
   "metadata": {},
   "outputs": [],
   "source": [
    "#read dataset\n",
    "file_path = \"rendimento_escolar.csv\"\n",
    "#data = pd.read_excel(file_path,skiprows= 7, sheet_name='NORTE')\n",
    "data = pd.read_csv(file_path)"
   ]
  },
  {
   "cell_type": "code",
   "execution_count": 27,
   "metadata": {},
   "outputs": [
    {
     "name": "stdout",
     "output_type": "stream",
     "text": [
      "Ano\n",
      "Região\n",
      "UF\n",
      "Código do Município\n",
      "Nome do Município\n",
      "Localização\n",
      "Rede\n",
      "Código da Escola\n",
      "Nome da Escola\n",
      "Aprovação no 1º Ano do Ensino Fundamental\n",
      "Aprovação na 1ª série/2º Ano\n",
      "Aprovação na 2ª série/3º Ano\n",
      "Aprovação na 3ª série/4º Ano\n",
      "Aprovaçãona 4ª série/5º Ano\n",
      "Aprovação na 5ª série/6º Ano\n",
      "Aprovação na 6ª série/7º Ano\n",
      "Aprovação na 7ª série/8º Ano\n",
      "Aprovação na 8ª série/9º Ano\n",
      "Aprovação 1ª a 4ª  Série/1º a 5º Ano\n",
      "Aprovação 5ª a 8ª Série/ 6º ao 9º Ano\n",
      "Total_Aprovação_Fundamental\n",
      "Aprovação na 1ª série - Médio\n",
      "Aprovação na 2ª série - Médio\n",
      "Aprovação na 3ª série - Médio\n",
      "Aprovação na 4ª série - Médio\n",
      "Total  Aprovação Médio Não Seriado\n",
      "Total  Aprovação Médio\n",
      "Reprovação no 1º Ano do Ensino Fundamental\n",
      "Reprovação na 1ª série/2º Ano\n",
      "Reprovação na 2ª série/3º Ano\n",
      "Reprovação na 3ª série/4º Ano\n",
      "Reprovação na 4ª série/5º Ano\n",
      "Reprovação na 5ª série/6º Ano\n",
      "Reprovação na 6ª série/7º Ano\n",
      "Reprovação na 7ª série/8º Ano\n",
      "Reprovação na 8ª série/9º Ano\n",
      "Reprovação 1ª a 4ª  Série/1º a 5º Ano\n",
      "Reprovação 5ª a 8ª Série/ 6º ao 9º Ano\n",
      "Total Reprovação Fundamental\n",
      "Reprovação na 1ª série - Médio\n",
      "Reprovação na 2ª série - Médio\n",
      "Reprovação na 3ª série - Médio\n",
      "Reprovação na 4ª série - Médio\n",
      "Total  Reprovação Médio Não Seriado\n",
      "Total  Reprovação Médio\n",
      "Abandono no 1º Ano do Ensino Fundamental\n",
      "Abandono na 1ª série/2º Ano\n",
      "Abandono na 2ª série/3º Ano\n",
      "Abandono na 3ª série/4º Ano\n",
      "Abandono na 4ª série/5º Ano\n",
      "Abandono na 5ª série/6º Ano\n",
      "Abandono na 6ª série/7º Ano\n",
      "Abandono na 7ª série/8º Ano\n",
      "Abandono na 8ª série/9º Ano\n",
      "Abandono 1ª a 4ª  Série/1º a 5º Ano\n",
      "Abandono 5ª a 8ª Série/ 6º ao 9º Ano\n",
      "Total_Abandono_Fundamental\n",
      "Abandono na 1ª série - Médio\n",
      "Abandono na 2ª série - Médio\n",
      "Abandono na 3ª série - Médio\n",
      "Abandono na 4ª série - Médio\n",
      "Total  Abandono Médio Não Seriado\n",
      "Total Abandono - Médio\n"
     ]
    }
   ],
   "source": [
    "# iterating the columns \n",
    "for col in data.columns: \n",
    "    print(col)"
   ]
  },
  {
   "cell_type": "code",
   "execution_count": 28,
   "metadata": {},
   "outputs": [],
   "source": [
    "df = pd.DataFrame(data)"
   ]
  },
  {
   "cell_type": "markdown",
   "metadata": {},
   "source": [
    "## Quantidade de escolas por Unidade Federativa"
   ]
  },
  {
   "cell_type": "code",
   "execution_count": 29,
   "metadata": {},
   "outputs": [
    {
     "name": "stdout",
     "output_type": "stream",
     "text": [
      "SP    15692\n",
      "MG    12608\n",
      "RJ     7995\n",
      "ES     2612\n",
      "Name: UF, dtype: int64\n"
     ]
    },
    {
     "data": {
      "image/png": "[encoded data removed]",
      "text/plain": [
       "<Figure size 432x288 with 1 Axes>"
      ]
     },
     "metadata": {
      "needs_background": "light"
     },
     "output_type": "display_data"
    }
   ],
   "source": [
    "#plot graph\n",
    "df['UF'].value_counts().plot(kind='bar');\n",
    "plt.xlabel(\"UF\")\n",
    "plt.ylabel(\"Number of schools\")\n",
    "plt.title(\"Number of schools per UF\");\n",
    "\n",
    "print(df['UF'].value_counts())"
   ]
  },
  {
   "cell_type": "code",
   "execution_count": 30,
   "metadata": {},
   "outputs": [
    {
     "data": {
      "text/plain": [
       "<matplotlib.axes._subplots.AxesSubplot at 0x1a85f38f3c8>"
      ]
     },
     "execution_count": 30,
     "metadata": {},
     "output_type": "execute_result"
    },
    {
     "data": {
      "image/png": "[encoded data removed]",
      "text/plain": [
       "<Figure size 432x288 with 1 Axes>"
      ]
     },
     "metadata": {
      "needs_background": "light"
     },
     "output_type": "display_data"
    }
   ],
   "source": [
    "group_data = df.groupby('UF')['Rede'].value_counts()\n",
    "#plt.xlabel(\"UF\")\n",
    "plt.ylabel(\"Number of schools per UF grouped by type\")\n",
    "plt.title(\"Number of schools per UF\");\n",
    "group_data.plot(x='UF', y='Rede', kind=\"bar\")"
   ]
  },
  {
   "cell_type": "code",
   "execution_count": 31,
   "metadata": {},
   "outputs": [
    {
     "data": {
      "image/png": "[encoded data removed]",
      "text/plain": [
       "<Figure size 360x360 with 1 Axes>"
      ]
     },
     "metadata": {},
     "output_type": "display_data"
    }
   ],
   "source": [
    "plot = df['Rede'].value_counts().plot.pie(y='mass', figsize=(5, 5))"
   ]
  },
  {
   "cell_type": "code",
   "execution_count": 32,
   "metadata": {},
   "outputs": [
    {
     "name": "stdout",
     "output_type": "stream",
     "text": [
      "<class 'pandas.core.series.Series'>\n"
     ]
    },
    {
     "data": {
      "text/plain": [
       "<matplotlib.axes._subplots.AxesSubplot at 0x1a85f48c4c8>"
      ]
     },
     "execution_count": 32,
     "metadata": {},
     "output_type": "execute_result"
    },
    {
     "data": {
      "image/png": "[encoded data removed]",
      "text/plain": [
       "<Figure size 432x288 with 1 Axes>"
      ]
     },
     "metadata": {
      "needs_background": "light"
     },
     "output_type": "display_data"
    }
   ],
   "source": [
    "group_data = df.groupby('UF')['Localização'].value_counts()\n",
    "print(type(group_data))\n",
    "#plt.xlabel(\"UF\")\n",
    "plt.ylabel(\"Number of schools per UF grouped by location\")\n",
    "plt.title(\"Number of schools per UF\");\n",
    "group_data.plot(x='UF', y='Rede', kind=\"bar\")"
   ]
  },
  {
   "cell_type": "code",
   "execution_count": 33,
   "metadata": {},
   "outputs": [
    {
     "data": {
      "image/png": "[encoded data removed]",
      "text/plain": [
       "<Figure size 360x360 with 1 Axes>"
      ]
     },
     "metadata": {},
     "output_type": "display_data"
    }
   ],
   "source": [
    "newdf = df.query('Rede == \"Particular\"')\n",
    "plot = newdf['Localização'].value_counts().plot.pie(y='mass', figsize=(5, 5))"
   ]
  },
  {
   "cell_type": "code",
   "execution_count": 34,
   "metadata": {},
   "outputs": [
    {
     "name": "stdout",
     "output_type": "stream",
     "text": [
      "<class 'pandas.core.series.Series'>\n"
     ]
    },
    {
     "data": {
      "text/plain": [
       "<matplotlib.axes._subplots.AxesSubplot at 0x1a85f582108>"
      ]
     },
     "execution_count": 34,
     "metadata": {},
     "output_type": "execute_result"
    },
    {
     "data": {
      "image/png": "[encoded data removed]",
      "text/plain": [
       "<Figure size 432x288 with 1 Axes>"
      ]
     },
     "metadata": {
      "needs_background": "light"
     },
     "output_type": "display_data"
    }
   ],
   "source": [
    "newdf = df.query('Rede == \"Particular\"')\n",
    "group_data = newdf.groupby('UF')['Localização'].value_counts()\n",
    "print(type(group_data))\n",
    "plt.ylabel(\"Number of private schools per UF grouped by location\")\n",
    "plt.title(\"Number of schools per UF\");\n",
    "group_data.plot(x='UF', y='Rede', kind=\"bar\")"
   ]
  },
  {
   "cell_type": "code",
   "execution_count": 35,
   "metadata": {},
   "outputs": [
    {
     "name": "stdout",
     "output_type": "stream",
     "text": [
      "No info approval: RJ    1380\n",
      "SP     823\n",
      "MG     323\n",
      "ES     113\n",
      "Name: UF, dtype: int64\n",
      "Approval with info: SP    14869\n",
      "MG    12285\n",
      "RJ     6615\n",
      "ES     2499\n",
      "Name: UF, dtype: int64\n"
     ]
    }
   ],
   "source": [
    "aproval1 = df.query('Total_Aprovação_Fundamental == \"--\"')\n",
    "aproval1 = aproval1['UF'].value_counts()\n",
    "aproval2 = df.query('Total_Aprovação_Fundamental != \"--\"')\n",
    "aproval2 = aproval2['UF'].value_counts()\n",
    "\n",
    "print(\"No info approval:\", aproval1)\n",
    "print(\"Approval with info:\",aproval2)"
   ]
  },
  {
   "cell_type": "code",
   "execution_count": 36,
   "metadata": {},
   "outputs": [],
   "source": [
    "rows = list()\n",
    "for index in df.index:\n",
    "    #print(index)\n",
    "    if df.loc[index,'Total_Aprovação_Fundamental']!='--':\n",
    "        df.loc[index,'Total_Aprovação_Fundamental'] = df.loc[index,'Total_Aprovação_Fundamental'].replace(\",\",\".\")\n",
    "        df.loc[index,'Total_Aprovação_Fundamental'] = float(df.loc[index,'Total_Aprovação_Fundamental'])\n",
    "    else:\n",
    "        rows.append(index)\n",
    "    if df.loc[index,'Total_Abandono_Fundamental']!='--':\n",
    "        df.loc[index,'Total_Abandono_Fundamental'] = df.loc[index,'Total_Abandono_Fundamental'].replace(\",\",\".\")\n",
    "        df.loc[index,'Total_Abandono_Fundamental'] = float(df.loc[index,'Total_Abandono_Fundamental'])\n",
    "    else:\n",
    "        rows.append(index)"
   ]
  },
  {
   "cell_type": "code",
   "execution_count": 37,
   "metadata": {},
   "outputs": [
    {
     "name": "stdout",
     "output_type": "stream",
     "text": [
      "5278\n",
      "SP    15692\n",
      "MG    12608\n",
      "RJ     7995\n",
      "ES     2612\n",
      "Name: UF, dtype: int64\n"
     ]
    }
   ],
   "source": [
    "print(len(rows))\n",
    "print(df['UF'].value_counts())"
   ]
  },
  {
   "cell_type": "code",
   "execution_count": 39,
   "metadata": {},
   "outputs": [],
   "source": [
    "df.drop(df.index[rows], inplace=True)"
   ]
  },
  {
   "cell_type": "code",
   "execution_count": 40,
   "metadata": {},
   "outputs": [
    {
     "name": "stdout",
     "output_type": "stream",
     "text": [
      "count     36268.0\n",
      "unique      567.0\n",
      "top         100.0\n",
      "freq       5974.0\n",
      "Name: Total_Aprovação_Fundamental, dtype: float64\n"
     ]
    },
    {
     "data": {
      "image/png": "[encoded data removed]",
      "text/plain": [
       "<Figure size 432x288 with 1 Axes>"
      ]
     },
     "metadata": {
      "needs_background": "light"
     },
     "output_type": "display_data"
    }
   ],
   "source": [
    "print(df[\"Total_Aprovação_Fundamental\"].describe())\n",
    "df[\"Total_Aprovação_Fundamental\"].plot.hist(bins=50)\n",
    "plt.ylabel(\"Frequency\")\n",
    "plt.xlabel(\"Value of the purchase\")\n",
    "plt.title(\"Purchase value distribution\");"
   ]
  },
  {
   "cell_type": "code",
   "execution_count": 41,
   "metadata": {},
   "outputs": [
    {
     "name": "stdout",
     "output_type": "stream",
     "text": [
      "count     36268.0\n",
      "unique      294.0\n",
      "top           0.0\n",
      "freq      20399.0\n",
      "Name: Total_Abandono_Fundamental, dtype: float64\n"
     ]
    },
    {
     "data": {
      "image/png": "[encoded data removed]",
      "text/plain": [
       "<Figure size 432x288 with 1 Axes>"
      ]
     },
     "metadata": {
      "needs_background": "light"
     },
     "output_type": "display_data"
    }
   ],
   "source": [
    "print(df[\"Total_Abandono_Fundamental\"].describe())\n",
    "df[\"Total_Abandono_Fundamental\"].plot.hist(bins=50)\n",
    "plt.ylabel(\"Frequency\")\n",
    "plt.xlabel(\"Value of the purchase\")\n",
    "plt.title(\"Purchase value distribution\");"
   ]
  },
  {
   "cell_type": "markdown",
   "metadata": {},
   "source": [
    "## Aprovação São Paulo"
   ]
  },
  {
   "cell_type": "code",
   "execution_count": 43,
   "metadata": {},
   "outputs": [
    {
     "name": "stdout",
     "output_type": "stream",
     "text": [
      "count     14869.0\n",
      "unique      311.0\n",
      "top         100.0\n",
      "freq       2155.0\n",
      "Name: Total_Aprovação_Fundamental, dtype: float64\n"
     ]
    },
    {
     "data": {
      "image/png": "[encoded data removed]",
      "text/plain": [
       "<Figure size 432x288 with 1 Axes>"
      ]
     },
     "metadata": {
      "needs_background": "light"
     },
     "output_type": "display_data"
    }
   ],
   "source": [
    "approval_sp = df.query('UF == \"SP\"')\n",
    "print(approval_sp[\"Total_Aprovação_Fundamental\"].describe())\n",
    "approval_sp[\"Total_Aprovação_Fundamental\"].plot.hist(bins=50)\n",
    "plt.ylabel(\"Frequency\")\n",
    "plt.xlabel(\"Value of the purchase\")\n",
    "plt.title(\"Purchase value distribution\");"
   ]
  },
  {
   "cell_type": "code",
   "execution_count": 44,
   "metadata": {},
   "outputs": [
    {
     "name": "stdout",
     "output_type": "stream",
     "text": [
      "count     14869.0\n",
      "unique      134.0\n",
      "top           0.0\n",
      "freq       9634.0\n",
      "Name: Total_Abandono_Fundamental, dtype: float64\n"
     ]
    },
    {
     "data": {
      "image/png": "[encoded data removed]",
      "text/plain": [
       "<Figure size 432x288 with 1 Axes>"
      ]
     },
     "metadata": {
      "needs_background": "light"
     },
     "output_type": "display_data"
    }
   ],
   "source": [
    "print(approval_sp[\"Total_Abandono_Fundamental\"].describe())\n",
    "approval_sp[\"Total_Abandono_Fundamental\"].plot.hist(bins=50)\n",
    "plt.ylabel(\"Frequency\")\n",
    "plt.xlabel(\"Value of the purchase\")\n",
    "plt.title(\"Purchase value distribution\");"
   ]
  },
  {
   "cell_type": "code",
   "execution_count": 45,
   "metadata": {},
   "outputs": [
    {
     "name": "stdout",
     "output_type": "stream",
     "text": [
      "count     3991.0\n",
      "unique     154.0\n",
      "top        100.0\n",
      "freq      1101.0\n",
      "Name: Total_Aprovação_Fundamental, dtype: float64\n"
     ]
    },
    {
     "data": {
      "image/png": "[encoded data removed]",
      "text/plain": [
       "<Figure size 432x288 with 1 Axes>"
      ]
     },
     "metadata": {
      "needs_background": "light"
     },
     "output_type": "display_data"
    }
   ],
   "source": [
    "approval_sp = df.query('UF == \"SP\" & Rede == \"Particular\" & Localização == \"Urbana\"')\n",
    "print(approval_sp[\"Total_Aprovação_Fundamental\"].describe())\n",
    "approval_sp[\"Total_Aprovação_Fundamental\"].plot.hist(bins=50)\n",
    "plt.ylabel(\"Frequency\")\n",
    "plt.xlabel(\"Value of the purchase\")\n",
    "plt.title(\"Purchase value distribution\");"
   ]
  },
  {
   "cell_type": "code",
   "execution_count": 46,
   "metadata": {},
   "outputs": [
    {
     "name": "stdout",
     "output_type": "stream",
     "text": [
      "count     9701.0\n",
      "unique     292.0\n",
      "top        100.0\n",
      "freq       745.0\n",
      "Name: Total_Aprovação_Fundamental, dtype: float64\n"
     ]
    },
    {
     "data": {
      "image/png": "[encoded data removed]",
      "text/plain": [
       "<Figure size 432x288 with 1 Axes>"
      ]
     },
     "metadata": {
      "needs_background": "light"
     },
     "output_type": "display_data"
    }
   ],
   "source": [
    "approval_sp = df.query('UF == \"SP\" & Rede != \"Particular\" & Localização == \"Urbana\"')\n",
    "print(approval_sp[\"Total_Aprovação_Fundamental\"].describe())\n",
    "approval_sp[\"Total_Aprovação_Fundamental\"].plot.hist(bins=50)\n",
    "plt.ylabel(\"Frequency\")\n",
    "plt.xlabel(\"Value of the purchase\")\n",
    "plt.title(\"Purchase value distribution\");"
   ]
  },
  {
   "cell_type": "code",
   "execution_count": 47,
   "metadata": {},
   "outputs": [
    {
     "name": "stdout",
     "output_type": "stream",
     "text": [
      "count     20.0\n",
      "unique    15.0\n",
      "top       97.3\n",
      "freq       3.0\n",
      "Name: Total_Aprovação_Fundamental, dtype: float64\n"
     ]
    },
    {
     "data": {
      "image/png": "[encoded data removed]",
      "text/plain": [
       "<Figure size 432x288 with 1 Axes>"
      ]
     },
     "metadata": {
      "needs_background": "light"
     },
     "output_type": "display_data"
    }
   ],
   "source": [
    "approval_sp = df.query('UF == \"SP\" & Rede == \"Particular\" & Localização == \"Rural\"')\n",
    "print(approval_sp[\"Total_Aprovação_Fundamental\"].describe())\n",
    "approval_sp[\"Total_Aprovação_Fundamental\"].plot.hist(bins=50)\n",
    "plt.ylabel(\"Frequency\")\n",
    "plt.xlabel(\"Value of the purchase\")\n",
    "plt.title(\"Purchase value distribution\");"
   ]
  },
  {
   "cell_type": "markdown",
   "metadata": {},
   "source": [
    "## Aprovação ES"
   ]
  },
  {
   "cell_type": "code",
   "execution_count": 49,
   "metadata": {},
   "outputs": [
    {
     "name": "stdout",
     "output_type": "stream",
     "text": [
      "count     2499.0\n",
      "unique     323.0\n",
      "top        100.0\n",
      "freq       652.0\n",
      "Name: Total_Aprovação_Fundamental, dtype: float64\n"
     ]
    },
    {
     "data": {
      "image/png": "[encoded data removed]",
      "text/plain": [
       "<Figure size 432x288 with 1 Axes>"
      ]
     },
     "metadata": {
      "needs_background": "light"
     },
     "output_type": "display_data"
    }
   ],
   "source": [
    "approval_sp = df.query('UF == \"ES\"')\n",
    "print(approval_sp[\"Total_Aprovação_Fundamental\"].describe())\n",
    "approval_sp[\"Total_Aprovação_Fundamental\"].plot.hist(bins=50)\n",
    "plt.ylabel(\"Frequency\")\n",
    "plt.xlabel(\"Value of the purchase\")\n",
    "plt.title(\"Purchase value distribution\");"
   ]
  },
  {
   "cell_type": "code",
   "execution_count": 50,
   "metadata": {},
   "outputs": [
    {
     "name": "stdout",
     "output_type": "stream",
     "text": [
      "count     12.0\n",
      "unique    12.0\n",
      "top       95.0\n",
      "freq       1.0\n",
      "Name: Total_Aprovação_Fundamental, dtype: float64\n"
     ]
    },
    {
     "data": {
      "image/png": "[encoded data removed]",
      "text/plain": [
       "<Figure size 432x288 with 1 Axes>"
      ]
     },
     "metadata": {
      "needs_background": "light"
     },
     "output_type": "display_data"
    }
   ],
   "source": [
    "approval_sp = df.query('UF == \"ES\" & Rede == \"Particular\" & Localização == \"Rural\"')\n",
    "print(approval_sp[\"Total_Aprovação_Fundamental\"].describe())\n",
    "approval_sp[\"Total_Aprovação_Fundamental\"].plot.hist(bins=50)\n",
    "plt.ylabel(\"Frequency\")\n",
    "plt.xlabel(\"Value of the purchase\")\n",
    "plt.title(\"Purchase value distribution\");"
   ]
  },
  {
   "cell_type": "markdown",
   "metadata": {},
   "source": [
    "## Aprovação MG"
   ]
  },
  {
   "cell_type": "code",
   "execution_count": 51,
   "metadata": {},
   "outputs": [
    {
     "name": "stdout",
     "output_type": "stream",
     "text": [
      "count     12285.0\n",
      "unique      442.0\n",
      "top         100.0\n",
      "freq       2778.0\n",
      "Name: Total_Aprovação_Fundamental, dtype: float64\n"
     ]
    },
    {
     "data": {
      "image/png": "[encoded data removed]",
      "text/plain": [
       "<Figure size 432x288 with 1 Axes>"
      ]
     },
     "metadata": {
      "needs_background": "light"
     },
     "output_type": "display_data"
    }
   ],
   "source": [
    "approval_sp = df.query('UF == \"MG\"')\n",
    "print(approval_sp[\"Total_Aprovação_Fundamental\"].describe())\n",
    "approval_sp[\"Total_Aprovação_Fundamental\"].plot.hist(bins=50)\n",
    "plt.ylabel(\"Frequency\")\n",
    "plt.xlabel(\"Value of the purchase\")\n",
    "plt.title(\"Purchase value distribution\");"
   ]
  },
  {
   "cell_type": "code",
   "execution_count": 52,
   "metadata": {},
   "outputs": [
    {
     "name": "stdout",
     "output_type": "stream",
     "text": [
      "count     1755.0\n",
      "unique     156.0\n",
      "top        100.0\n",
      "freq       660.0\n",
      "Name: Total_Aprovação_Fundamental, dtype: float64\n"
     ]
    },
    {
     "data": {
      "image/png": "[encoded data removed]",
      "text/plain": [
       "<Figure size 432x288 with 1 Axes>"
      ]
     },
     "metadata": {
      "needs_background": "light"
     },
     "output_type": "display_data"
    }
   ],
   "source": [
    "approval_sp = df.query('UF == \"MG\" & Rede == \"Particular\" & Localização == \"Urbana\"')\n",
    "print(approval_sp[\"Total_Aprovação_Fundamental\"].describe())\n",
    "approval_sp[\"Total_Aprovação_Fundamental\"].plot.hist(bins=50)\n",
    "plt.ylabel(\"Frequency\")\n",
    "plt.xlabel(\"Value of the purchase\")\n",
    "plt.title(\"Purchase value distribution\");"
   ]
  },
  {
   "cell_type": "code",
   "execution_count": 53,
   "metadata": {},
   "outputs": [
    {
     "name": "stdout",
     "output_type": "stream",
     "text": [
      "count      14.0\n",
      "unique     10.0\n",
      "top       100.0\n",
      "freq        5.0\n",
      "Name: Total_Aprovação_Fundamental, dtype: float64\n"
     ]
    },
    {
     "data": {
      "image/png": "[encoded data removed]",
      "text/plain": [
       "<Figure size 432x288 with 1 Axes>"
      ]
     },
     "metadata": {
      "needs_background": "light"
     },
     "output_type": "display_data"
    }
   ],
   "source": [
    "approval_sp = df.query('UF == \"MG\" & Rede == \"Particular\" & Localização == \"Rural\"')\n",
    "print(approval_sp[\"Total_Aprovação_Fundamental\"].describe())\n",
    "approval_sp[\"Total_Aprovação_Fundamental\"].plot.hist(bins=50)\n",
    "plt.ylabel(\"Frequency\")\n",
    "plt.xlabel(\"Value of the purchase\")\n",
    "plt.title(\"Purchase value distribution\");"
   ]
  },
  {
   "cell_type": "markdown",
   "metadata": {},
   "source": [
    "## Aprovacao RJ"
   ]
  },
  {
   "cell_type": "code",
   "execution_count": 54,
   "metadata": {},
   "outputs": [
    {
     "name": "stdout",
     "output_type": "stream",
     "text": [
      "count     6615.0\n",
      "unique     533.0\n",
      "top        100.0\n",
      "freq       389.0\n",
      "Name: Total_Aprovação_Fundamental, dtype: float64\n"
     ]
    },
    {
     "data": {
      "image/png": "[encoded data removed]",
      "text/plain": [
       "<Figure size 432x288 with 1 Axes>"
      ]
     },
     "metadata": {
      "needs_background": "light"
     },
     "output_type": "display_data"
    }
   ],
   "source": [
    "approval_sp = df.query('UF == \"RJ\"')\n",
    "print(approval_sp[\"Total_Aprovação_Fundamental\"].describe())\n",
    "approval_sp[\"Total_Aprovação_Fundamental\"].plot.hist(bins=50)\n",
    "plt.ylabel(\"Frequency\")\n",
    "plt.xlabel(\"Value of the purchase\")\n",
    "plt.title(\"Purchase value distribution\");"
   ]
  },
  {
   "cell_type": "code",
   "execution_count": 55,
   "metadata": {},
   "outputs": [
    {
     "name": "stdout",
     "output_type": "stream",
     "text": [
      "count     1788.0\n",
      "unique     220.0\n",
      "top        100.0\n",
      "freq       260.0\n",
      "Name: Total_Aprovação_Fundamental, dtype: float64\n"
     ]
    },
    {
     "data": {
      "image/png": "[encoded data removed]",
      "text/plain": [
       "<Figure size 432x288 with 1 Axes>"
      ]
     },
     "metadata": {
      "needs_background": "light"
     },
     "output_type": "display_data"
    }
   ],
   "source": [
    "approval_sp = df.query('UF == \"RJ\" & Rede == \"Particular\" & Localização == \"Urbana\"')\n",
    "print(approval_sp[\"Total_Aprovação_Fundamental\"].describe())\n",
    "approval_sp[\"Total_Aprovação_Fundamental\"].plot.hist(bins=50)\n",
    "plt.ylabel(\"Frequency\")\n",
    "plt.xlabel(\"Value of the purchase\")\n",
    "plt.title(\"Purchase value distribution\");"
   ]
  },
  {
   "cell_type": "code",
   "execution_count": 56,
   "metadata": {},
   "outputs": [
    {
     "name": "stdout",
     "output_type": "stream",
     "text": [
      "count      25.0\n",
      "unique     21.0\n",
      "top       100.0\n",
      "freq        4.0\n",
      "Name: Total_Aprovação_Fundamental, dtype: float64\n"
     ]
    },
    {
     "data": {
      "image/png": "[encoded data removed]",
      "text/plain": [
       "<Figure size 432x288 with 1 Axes>"
      ]
     },
     "metadata": {
      "needs_background": "light"
     },
     "output_type": "display_data"
    }
   ],
   "source": [
    "approval_sp = df.query('UF == \"RJ\" & Rede == \"Particular\" & Localização == \"Rural\"')\n",
    "print(approval_sp[\"Total_Aprovação_Fundamental\"].describe())\n",
    "approval_sp[\"Total_Aprovação_Fundamental\"].plot.hist(bins=50)\n",
    "plt.ylabel(\"Frequency\")\n",
    "plt.xlabel(\"Value of the purchase\")\n",
    "plt.title(\"Purchase value distribution\");"
   ]
  },
  {
   "cell_type": "code",
   "execution_count": null,
   "metadata": {},
   "outputs": [],
   "source": []
  }
 ],
 "metadata": {
  "kernelspec": {
   "display_name": "Python 3",
   "language": "python",
   "name": "python3"
  },
  "language_info": {
   "codemirror_mode": {
    "name": "ipython",
    "version": 3
   },
   "file_extension": ".py",
   "mimetype": "text/x-python",
   "name": "python",
   "nbconvert_exporter": "python",
   "pygments_lexer": "ipython3",
   "version": "3.7.4"
  }
 },
 "nbformat": 4,
 "nbformat_minor": 4
}
